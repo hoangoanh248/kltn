{
  "nbformat": 4,
  "nbformat_minor": 0,
  "metadata": {
    "colab": {
      "name": "kltn_final_vessel.ipynb",
      "provenance": [],
      "collapsed_sections": []
    },
    "kernelspec": {
      "name": "python3",
      "display_name": "Python 3"
    },
    "accelerator": "GPU",
    "widgets": {
      "application/vnd.jupyter.widget-state+json": {
        "3537b4e9603d48b79f5afe5959b855f9": {
          "model_module": "@jupyter-widgets/controls",
          "model_name": "HBoxModel",
          "state": {
            "_view_name": "HBoxView",
            "_dom_classes": [],
            "_model_name": "HBoxModel",
            "_view_module": "@jupyter-widgets/controls",
            "_model_module_version": "1.5.0",
            "_view_count": null,
            "_view_module_version": "1.5.0",
            "box_style": "",
            "layout": "IPY_MODEL_52986c1a59a44a7f93b1684841ebc4a1",
            "_model_module": "@jupyter-widgets/controls",
            "children": [
              "IPY_MODEL_d799eef7c7204bdcb6150bb66fda409a",
              "IPY_MODEL_d173a4c42a37431994bb4882f17d846a"
            ]
          }
        },
        "52986c1a59a44a7f93b1684841ebc4a1": {
          "model_module": "@jupyter-widgets/base",
          "model_name": "LayoutModel",
          "state": {
            "_view_name": "LayoutView",
            "grid_template_rows": null,
            "right": null,
            "justify_content": null,
            "_view_module": "@jupyter-widgets/base",
            "overflow": null,
            "_model_module_version": "1.2.0",
            "_view_count": null,
            "flex_flow": null,
            "width": null,
            "min_width": null,
            "border": null,
            "align_items": null,
            "bottom": null,
            "_model_module": "@jupyter-widgets/base",
            "top": null,
            "grid_column": null,
            "overflow_y": null,
            "overflow_x": null,
            "grid_auto_flow": null,
            "grid_area": null,
            "grid_template_columns": null,
            "flex": null,
            "_model_name": "LayoutModel",
            "justify_items": null,
            "grid_row": null,
            "max_height": null,
            "align_content": null,
            "visibility": null,
            "align_self": null,
            "height": null,
            "min_height": null,
            "padding": null,
            "grid_auto_rows": null,
            "grid_gap": null,
            "max_width": null,
            "order": null,
            "_view_module_version": "1.2.0",
            "grid_template_areas": null,
            "object_position": null,
            "object_fit": null,
            "grid_auto_columns": null,
            "margin": null,
            "display": null,
            "left": null
          }
        },
        "d799eef7c7204bdcb6150bb66fda409a": {
          "model_module": "@jupyter-widgets/controls",
          "model_name": "IntProgressModel",
          "state": {
            "_view_name": "ProgressView",
            "style": "IPY_MODEL_363c0b9f37644059ae98130a12bf82af",
            "_dom_classes": [],
            "description": "",
            "_model_name": "IntProgressModel",
            "bar_style": "success",
            "max": 49388949,
            "_view_module": "@jupyter-widgets/controls",
            "_model_module_version": "1.5.0",
            "value": 49388949,
            "_view_count": null,
            "_view_module_version": "1.5.0",
            "orientation": "horizontal",
            "min": 0,
            "description_tooltip": null,
            "_model_module": "@jupyter-widgets/controls",
            "layout": "IPY_MODEL_5c0d70b6245e4edfa2fc1dd8bb107a73"
          }
        },
        "d173a4c42a37431994bb4882f17d846a": {
          "model_module": "@jupyter-widgets/controls",
          "model_name": "HTMLModel",
          "state": {
            "_view_name": "HTMLView",
            "style": "IPY_MODEL_4b46a8bcac4843eb8315c08cf822d52a",
            "_dom_classes": [],
            "description": "",
            "_model_name": "HTMLModel",
            "placeholder": "​",
            "_view_module": "@jupyter-widgets/controls",
            "_model_module_version": "1.5.0",
            "value": "100% 47.1M/47.1M [00:02&lt;00:00, 22.6MB/s]",
            "_view_count": null,
            "_view_module_version": "1.5.0",
            "description_tooltip": null,
            "_model_module": "@jupyter-widgets/controls",
            "layout": "IPY_MODEL_2375130bfbdf4ca0a264721f540f5bba"
          }
        },
        "363c0b9f37644059ae98130a12bf82af": {
          "model_module": "@jupyter-widgets/controls",
          "model_name": "ProgressStyleModel",
          "state": {
            "_view_name": "StyleView",
            "_model_name": "ProgressStyleModel",
            "description_width": "",
            "_view_module": "@jupyter-widgets/base",
            "_model_module_version": "1.5.0",
            "_view_count": null,
            "_view_module_version": "1.2.0",
            "bar_color": null,
            "_model_module": "@jupyter-widgets/controls"
          }
        },
        "5c0d70b6245e4edfa2fc1dd8bb107a73": {
          "model_module": "@jupyter-widgets/base",
          "model_name": "LayoutModel",
          "state": {
            "_view_name": "LayoutView",
            "grid_template_rows": null,
            "right": null,
            "justify_content": null,
            "_view_module": "@jupyter-widgets/base",
            "overflow": null,
            "_model_module_version": "1.2.0",
            "_view_count": null,
            "flex_flow": null,
            "width": null,
            "min_width": null,
            "border": null,
            "align_items": null,
            "bottom": null,
            "_model_module": "@jupyter-widgets/base",
            "top": null,
            "grid_column": null,
            "overflow_y": null,
            "overflow_x": null,
            "grid_auto_flow": null,
            "grid_area": null,
            "grid_template_columns": null,
            "flex": null,
            "_model_name": "LayoutModel",
            "justify_items": null,
            "grid_row": null,
            "max_height": null,
            "align_content": null,
            "visibility": null,
            "align_self": null,
            "height": null,
            "min_height": null,
            "padding": null,
            "grid_auto_rows": null,
            "grid_gap": null,
            "max_width": null,
            "order": null,
            "_view_module_version": "1.2.0",
            "grid_template_areas": null,
            "object_position": null,
            "object_fit": null,
            "grid_auto_columns": null,
            "margin": null,
            "display": null,
            "left": null
          }
        },
        "4b46a8bcac4843eb8315c08cf822d52a": {
          "model_module": "@jupyter-widgets/controls",
          "model_name": "DescriptionStyleModel",
          "state": {
            "_view_name": "StyleView",
            "_model_name": "DescriptionStyleModel",
            "description_width": "",
            "_view_module": "@jupyter-widgets/base",
            "_model_module_version": "1.5.0",
            "_view_count": null,
            "_view_module_version": "1.2.0",
            "_model_module": "@jupyter-widgets/controls"
          }
        },
        "2375130bfbdf4ca0a264721f540f5bba": {
          "model_module": "@jupyter-widgets/base",
          "model_name": "LayoutModel",
          "state": {
            "_view_name": "LayoutView",
            "grid_template_rows": null,
            "right": null,
            "justify_content": null,
            "_view_module": "@jupyter-widgets/base",
            "overflow": null,
            "_model_module_version": "1.2.0",
            "_view_count": null,
            "flex_flow": null,
            "width": null,
            "min_width": null,
            "border": null,
            "align_items": null,
            "bottom": null,
            "_model_module": "@jupyter-widgets/base",
            "top": null,
            "grid_column": null,
            "overflow_y": null,
            "overflow_x": null,
            "grid_auto_flow": null,
            "grid_area": null,
            "grid_template_columns": null,
            "flex": null,
            "_model_name": "LayoutModel",
            "justify_items": null,
            "grid_row": null,
            "max_height": null,
            "align_content": null,
            "visibility": null,
            "align_self": null,
            "height": null,
            "min_height": null,
            "padding": null,
            "grid_auto_rows": null,
            "grid_gap": null,
            "max_width": null,
            "order": null,
            "_view_module_version": "1.2.0",
            "grid_template_areas": null,
            "object_position": null,
            "object_fit": null,
            "grid_auto_columns": null,
            "margin": null,
            "display": null,
            "left": null
          }
        }
      }
    }
  },
  "cells": [
    {
      "cell_type": "code",
      "metadata": {
        "id": "bSAhikBnSBLp",
        "colab_type": "code",
        "colab": {
          "base_uri": "https://localhost:8080/",
          "height": 53
        },
        "outputId": "ac02d791-d45e-4d3c-f184-eea97debf5ec"
      },
      "source": [
        "from google.colab import drive\n",
        "drive.mount('/content/gdrive')"
      ],
      "execution_count": null,
      "outputs": [
        {
          "output_type": "stream",
          "text": [
            "Drive already mounted at /content/gdrive; to attempt to forcibly remount, call drive.mount(\"/content/gdrive\", force_remount=True).\n"
          ],
          "name": "stdout"
        }
      ]
    },
    {
      "cell_type": "markdown",
      "metadata": {
        "id": "TVgYYvL-TDZX",
        "colab_type": "text"
      },
      "source": [
        "**CÀI ĐẶT VÀ IMPORT THƯ VIỆN**"
      ]
    },
    {
      "cell_type": "code",
      "metadata": {
        "id": "e9tY0Y6oSzgy",
        "colab_type": "code",
        "colab": {
          "base_uri": "https://localhost:8080/",
          "height": 301
        },
        "outputId": "db251e76-809e-4b13-d8df-baf6e5a038f0"
      },
      "source": [
        "%cd '/content/gdrive/My Drive/Colab Notebooks/odir-ivashnyov/ODIR/'\n",
        "!ls"
      ],
      "execution_count": null,
      "outputs": [
        {
          "output_type": "stream",
          "text": [
            "/content/gdrive/My Drive/Colab Notebooks/odir-ivashnyov/ODIR\n",
            "CrossValidationScore.py\t\t  Predictions.py\n",
            "cv_split.pickle\t\t\t  predict.py\n",
            "data\t\t\t\t  __pycache__\n",
            "EDA.ipynb\t\t\t  README.md\n",
            "initial_test_b3_fold3_clahe\t  split_folds.ipynb\n",
            "logs\t\t\t\t  submit\n",
            "logs_final\t\t\t  submit_final\n",
            "MNIST\t\t\t\t  submit_initial_test_b3.csv\n",
            "model_concate_10_no_epoch.txt\t  submit_oanh_initial_test_b3.csv\n",
            "model_concate_15epoch_weight.txt  submit_vessel_initial_test_b3.csv\n",
            "model_concate_19epoch.txt\t  train_1cycle.py\n",
            "model_concate_20epoch.txt\t  train_all_folds_args.sh\n",
            "model_concate_5_no_epoch.txt\t  train_all_folds.sh\n",
            "model_concate_6epoch.txt\t  train.py\n",
            "model_concate_epoch_20.txt\t  utils.py\n",
            "odir_submit.py\t\t\t  Visualization.ipynb\n"
          ],
          "name": "stdout"
        }
      ]
    },
    {
      "cell_type": "code",
      "metadata": {
        "id": "ir94ANwxS4nF",
        "colab_type": "code",
        "colab": {}
      },
      "source": [
        "!pip install catalyst==20.2.4\n",
        "!pip install tqdm==4.33\n",
        "!pip install efficientnet_pytorch\n",
        "!pip install pytorch_toolbelt"
      ],
      "execution_count": null,
      "outputs": []
    },
    {
      "cell_type": "code",
      "metadata": {
        "id": "uKHx5LTwS6Ll",
        "colab_type": "code",
        "colab": {
          "base_uri": "https://localhost:8080/",
          "height": 50
        },
        "outputId": "a07c74d1-555d-4910-d01f-04816a837d0f"
      },
      "source": [
        "from sklearn import svm\n",
        "from keras.callbacks import CSVLogger\n",
        "from keras.callbacks import LambdaCallback\n",
        "from utils import *\n",
        "import pandas as pd\n",
        "import sys\n",
        "import os\n",
        "import cv2\n",
        "from keras.models import Sequential\n",
        "from keras.layers import Dense\n",
        "import matplotlib.pyplot as plt\n",
        "import numpy as np\n",
        "from numpy import asarray\n",
        "from sklearn.model_selection import train_test_split\n",
        "from sklearn.preprocessing import MultiLabelBinarizer\n",
        "from keras.preprocessing.image import ImageDataGenerator\n",
        "from keras.preprocessing.image import load_img\n",
        "from keras.preprocessing.image import img_to_array\n",
        "from keras.callbacks import LambdaCallback\n",
        "from keras.callbacks import ModelCheckpoint, Callback, EarlyStopping\n",
        "from torch.utils.data import Dataset, DataLoader\n",
        "import tensorflow as tf\n",
        "import torch\n",
        "import collections\n",
        "from pytorch_toolbelt.inference import tta\n",
        "from catalyst.dl.callbacks import InferCallback\n",
        "from catalyst.dl.runner import SupervisedRunner\n",
        "from torch.nn.functional import softmax\n",
        "from catalyst.dl.callbacks import EarlyStoppingCallback, AccuracyCallback, F1ScoreCallback, ConfusionMatrixCallback, MixupCallback\n",
        "from catalyst.contrib.nn.schedulers import OneCycleLR, ReduceLROnPlateau, StepLR, MultiStepLR\n",
        "from torchvision import transforms\n",
        "import torch.nn.functional as F\n",
        "from torch.autograd import Variable\n",
        "from torchsummary import summary\n",
        "import pickle\n",
        "import time\n",
        "import copy"
      ],
      "execution_count": null,
      "outputs": [
        {
          "output_type": "stream",
          "text": [
            "Using TensorFlow backend.\n",
            "alchemy not available, to install alchemy, run `pip install alchemy-catalyst`.\n"
          ],
          "name": "stderr"
        }
      ]
    },
    {
      "cell_type": "code",
      "metadata": {
        "id": "Jgw8MOAxTT7e",
        "colab_type": "code",
        "colab": {
          "base_uri": "https://localhost:8080/",
          "height": 136,
          "referenced_widgets": [
            "3537b4e9603d48b79f5afe5959b855f9",
            "52986c1a59a44a7f93b1684841ebc4a1",
            "d799eef7c7204bdcb6150bb66fda409a",
            "d173a4c42a37431994bb4882f17d846a",
            "363c0b9f37644059ae98130a12bf82af",
            "5c0d70b6245e4edfa2fc1dd8bb107a73",
            "4b46a8bcac4843eb8315c08cf822d52a",
            "2375130bfbdf4ca0a264721f540f5bba"
          ]
        },
        "outputId": "b0c22044-ad93-4b29-ea16-ad42e959d66c"
      },
      "source": [
        "splits = pickle.load(open('/content/gdrive/My Drive/Colab Notebooks/odir-ivashnyov/ODIR/cv_split.pickle', 'rb'))\n",
        "data = pd.read_csv('/content/gdrive/My Drive/Colab Notebooks/odir-ivashnyov/ODIR/data/splited_train_new.csv')\n",
        "labels  = ['N','D','G','C','A','H','M','O']\n",
        "n_classes = len(labels)\n",
        "fold_idx, batch_size, model_name, image_size, head_n_epochs, head_lr, full_n_epochs, full_lr, exp_name = 3, 32, 'efficientnet-b3', 240, 5, 1e-5, 25, 3e-4, 'initial_test_b3'\n",
        "os.environ[\"CUDA_VISIBLE_DEVICES\"] = \"0\"\n",
        "num_classes = len(labels)\n",
        "seed_everything(1234)\n",
        "runner = SupervisedRunner()\n",
        "model = prepare_model(model_name, n_classes)"
      ],
      "execution_count": null,
      "outputs": [
        {
          "output_type": "stream",
          "text": [
            "Will load efficientnet-b3 with 8 classes\n"
          ],
          "name": "stdout"
        },
        {
          "output_type": "stream",
          "text": [
            "Downloading: \"https://github.com/lukemelas/EfficientNet-PyTorch/releases/download/1.0/efficientnet-b3-5fb5a3c3.pth\" to /root/.cache/torch/hub/checkpoints/efficientnet-b3-5fb5a3c3.pth\n"
          ],
          "name": "stderr"
        },
        {
          "output_type": "display_data",
          "data": {
            "application/vnd.jupyter.widget-view+json": {
              "model_id": "3537b4e9603d48b79f5afe5959b855f9",
              "version_minor": 0,
              "version_major": 2
            },
            "text/plain": [
              "HBox(children=(IntProgress(value=0, max=49388949), HTML(value='')))"
            ]
          },
          "metadata": {
            "tags": []
          }
        },
        {
          "output_type": "stream",
          "text": [
            "\n",
            "Loaded pretrained weights for efficientnet-b3\n"
          ],
          "name": "stdout"
        }
      ]
    },
    {
      "cell_type": "markdown",
      "metadata": {
        "id": "gflgqM7KTgVr",
        "colab_type": "text"
      },
      "source": [
        "**TRAIN ẢNH VESSEL**"
      ]
    },
    {
      "cell_type": "code",
      "metadata": {
        "id": "lnkPgtqfTfJn",
        "colab_type": "code",
        "colab": {
          "base_uri": "https://localhost:8080/",
          "height": 1000
        },
        "outputId": "71720ce4-58a5-4a7f-9ad8-9b85f0649d7a"
      },
      "source": [
        "train_path = '/content/gdrive/My Drive/Colab Notebooks/retina/Retina-VesselNet/experiments/VesselNet/test/vessel-train-full/'\n",
        "valid_path = '/content/gdrive/My Drive/Colab Notebooks/retina/Retina-VesselNet/experiments/VesselNet/test/vessel-train-full/'\n",
        "train_dataset = EyeDataset(dataset_path = train_path, \n",
        "\t\t\t\t\tlabels=data.loc[splits['train_idx'][fold_idx],labels].values, \n",
        "\t\t\t\t\tids=data.loc[splits['train_idx'][fold_idx],'id'].values, \n",
        "\t\t\t\t\talbumentations_tr=aug_train_heavy(image_size)) \n",
        "val_dataset = EyeDataset(dataset_path=valid_path, \n",
        "\t\t\t\t\tlabels=data.loc[splits['test_idx'][fold_idx],labels].values, \n",
        "\t\t\t\t\tids=data.loc[splits['test_idx'][fold_idx],'id'].values, \n",
        "\t\t\t\t\talbumentations_tr=aug_val(image_size))\n",
        "train_loader =  DataLoader(train_dataset,\n",
        "\t\t\t\t\tnum_workers=8,\n",
        "\t\t\t\t\tpin_memory=False,\n",
        "\t\t\t\t\tbatch_size=batch_size,\n",
        "\t\t\t\t\tshuffle=True)\n",
        "val_loader =  DataLoader(val_dataset,\n",
        "\t\t\t\t\tnum_workers=8,\n",
        "\t\t\t\t\tpin_memory=False,\n",
        "\t\t\t\t\tbatch_size=batch_size,\n",
        "\t\t\t\t\tshuffle=True)\t\n",
        "loaders = collections.OrderedDict()\n",
        "loaders[\"train\"] = train_loader\n",
        "loaders[\"valid\"] = val_loader\n",
        "logdir = 'logs_final/{}_fold{}_vessel/'.format(exp_name, fold_idx)\n",
        "print('Training only head for {} epochs with inital lr {}'.format(head_n_epochs, head_lr))\n",
        "for p in model.parameters():\n",
        "\t\tp.requires_grad = False\n",
        "for p in model._fc.parameters():\n",
        "\t\tp.requires_grad = True\n",
        "optimizer = torch.optim.Adam(model.parameters(), lr=head_lr)\n",
        "criterion = nn.CrossEntropyLoss()\n",
        "scheduler = ReduceLROnPlateau(optimizer=optimizer, factor=0.75, patience=2)\n",
        "runner.train(model=model,\n",
        "\t\t\tcriterion=criterion,\n",
        "\t\t\toptimizer=optimizer,\n",
        "\t\t\tloaders=loaders,\n",
        "\t\t\tlogdir=logdir,\n",
        "\t\t\tscheduler=scheduler,\n",
        "\t\t\tcallbacks=[\n",
        "                MixupCallback()\n",
        "\t\t\t\t],\n",
        "\t\t\tnum_epochs=head_n_epochs,\n",
        "\t\t\tverbose=True)      \n",
        "print('Train whole net for {} epochs with initial lr {}'.format(full_n_epochs, full_lr))\n",
        "print('Train whole net for {} epochs with initial lr {}'.format(full_n_epochs, full_lr))\n",
        "for p in model.parameters():\n",
        "\t\tp.requires_grad = True\n",
        "optimizer = torch.optim.Adam(model.parameters(), lr=full_lr)\n",
        "criterion = nn.CrossEntropyLoss()\n",
        "scheduler = ReduceLROnPlateau(optimizer=optimizer, factor=0.5, patience=5)\n",
        "runner.train(model=model,\n",
        "\t\t\tcriterion=criterion,\n",
        "\t\t\toptimizer=optimizer,\n",
        "\t\t\tloaders=loaders,\n",
        "\t\t\tlogdir=logdir,\n",
        "\t\t\tscheduler=scheduler,\n",
        "\t\t\tcallbacks=[\n",
        "                MixupCallback()\n",
        "\t\t\t\t],\n",
        "\t\t\tnum_epochs=full_n_epochs,\n",
        "\t\t\tverbose=True)"
      ],
      "execution_count": null,
      "outputs": [
        {
          "output_type": "stream",
          "text": [
            "Training only head for 5 epochs with inital lr 1e-05\n",
            "1/5 * Epoch (train): 100% 164/164 [06:09<00:00,  2.25s/it, loss=2.060]\n",
            "1/5 * Epoch (valid): 100% 55/55 [01:57<00:00,  1.29it/s, loss=2.032]\n",
            "[2020-08-02 13:04:56,985] \n",
            "1/5 * Epoch 1 (train): _base/lr=1.000e-05 | _base/momentum=0.9000 | _timers/_fps=325.9118 | _timers/batch_time=1.9915 | _timers/data_time=1.9324 | _timers/model_time=0.0580 | loss=2.0341\n",
            "1/5 * Epoch 1 (valid): _base/lr=1.000e-05 | _base/momentum=0.9000 | _timers/_fps=569.5941 | _timers/batch_time=1.8669 | _timers/data_time=1.8302 | _timers/model_time=0.0366 | loss=2.0148\n",
            "2/5 * Epoch (train): 100% 164/164 [02:19<00:00,  1.18it/s, loss=1.830]\n",
            "2/5 * Epoch (valid): 100% 55/55 [00:33<00:00,  3.28it/s, loss=1.971]\n",
            "[2020-08-02 13:07:51,246] \n",
            "2/5 * Epoch 2 (train): _base/lr=1.000e-05 | _base/momentum=0.9000 | _timers/_fps=140.2361 | _timers/batch_time=0.7086 | _timers/data_time=0.5005 | _timers/model_time=0.2049 | loss=1.9202\n",
            "2/5 * Epoch 2 (valid): _base/lr=1.000e-05 | _base/momentum=0.9000 | _timers/_fps=315.8530 | _timers/batch_time=0.3949 | _timers/data_time=0.3027 | _timers/model_time=0.0921 | loss=1.9339\n",
            "3/5 * Epoch (train): 100% 164/164 [02:19<00:00,  1.17it/s, loss=1.777]\n",
            "3/5 * Epoch (valid): 100% 55/55 [00:33<00:00,  3.61it/s, loss=1.941]\n",
            "[2020-08-02 13:10:48,604] \n",
            "3/5 * Epoch 3 (train): _base/lr=1.000e-05 | _base/momentum=0.9000 | _timers/_fps=140.8652 | _timers/batch_time=0.7178 | _timers/data_time=0.5029 | _timers/model_time=0.2112 | loss=1.8359\n",
            "3/5 * Epoch 3 (valid): _base/lr=1.000e-05 | _base/momentum=0.9000 | _timers/_fps=323.3865 | _timers/batch_time=0.3924 | _timers/data_time=0.3024 | _timers/model_time=0.0899 | loss=1.8586\n",
            "4/5 * Epoch (train): 100% 164/164 [02:20<00:00,  1.17it/s, loss=1.711]\n",
            "4/5 * Epoch (valid): 100% 55/55 [00:33<00:00,  3.27it/s, loss=1.756]\n",
            "[2020-08-02 13:13:46,067] \n",
            "4/5 * Epoch 4 (train): _base/lr=1.000e-05 | _base/momentum=0.9000 | _timers/_fps=123.3236 | _timers/batch_time=0.7197 | _timers/data_time=0.5039 | _timers/model_time=0.2126 | loss=1.7889\n",
            "4/5 * Epoch 4 (valid): _base/lr=1.000e-05 | _base/momentum=0.9000 | _timers/_fps=308.2589 | _timers/batch_time=0.3950 | _timers/data_time=0.3032 | _timers/model_time=0.0917 | loss=1.8117\n",
            "5/5 * Epoch (train): 100% 164/164 [02:22<00:00,  1.15it/s, loss=1.464]\n",
            "5/5 * Epoch (valid): 100% 55/55 [00:33<00:00,  3.39it/s, loss=1.933]\n",
            "[2020-08-02 13:16:44,107] \n",
            "5/5 * Epoch 5 (train): _base/lr=1.000e-05 | _base/momentum=0.9000 | _timers/_fps=143.0247 | _timers/batch_time=0.7406 | _timers/data_time=0.5191 | _timers/model_time=0.2182 | loss=1.7401\n",
            "5/5 * Epoch 5 (valid): _base/lr=1.000e-05 | _base/momentum=0.9000 | _timers/_fps=275.2351 | _timers/batch_time=0.3918 | _timers/data_time=0.2952 | _timers/model_time=0.0964 | loss=1.7900\n",
            "Top best models:\n",
            "logs_final/initial_test_b3_fold3_vessel/checkpoints/train.5.pth\t1.7900\n",
            "Train whole net for 25 epochs with initial lr 0.0003\n",
            "Train whole net for 25 epochs with initial lr 0.0003\n",
            "1/25 * Epoch (train): 100% 164/164 [03:26<00:00,  1.14it/s, loss=0.955]\n",
            "1/25 * Epoch (valid): 100% 55/55 [00:33<00:00,  3.29it/s, loss=1.473]\n",
            "[2020-08-02 13:20:49,458] \n",
            "1/25 * Epoch 6 (train): _base/lr=0.0003 | _base/momentum=0.9000 | _timers/_fps=286.1767 | _timers/batch_time=0.1881 | _timers/data_time=0.0736 | _timers/model_time=0.1130 | loss=1.5335\n",
            "1/25 * Epoch 6 (valid): _base/lr=0.0003 | _base/momentum=0.9000 | _timers/_fps=299.9470 | _timers/batch_time=0.3923 | _timers/data_time=0.3034 | _timers/model_time=0.0888 | loss=1.4266\n",
            "2/25 * Epoch (train): 100% 164/164 [03:26<00:00,  1.14it/s, loss=2.094]\n",
            "2/25 * Epoch (valid): 100% 55/55 [00:33<00:00,  3.41it/s, loss=1.255]\n",
            "[2020-08-02 13:24:53,308] \n",
            "2/25 * Epoch 7 (train): _base/lr=0.0003 | _base/momentum=0.9000 | _timers/_fps=282.4238 | _timers/batch_time=0.1867 | _timers/data_time=0.0726 | _timers/model_time=0.1127 | loss=1.4602\n",
            "2/25 * Epoch 7 (valid): _base/lr=0.0003 | _base/momentum=0.9000 | _timers/_fps=293.2219 | _timers/batch_time=0.3995 | _timers/data_time=0.3029 | _timers/model_time=0.0966 | loss=1.3979\n",
            "3/25 * Epoch (train): 100% 164/164 [03:26<00:00,  1.14it/s, loss=1.863]\n",
            "3/25 * Epoch (valid): 100% 55/55 [00:33<00:00,  3.01it/s, loss=1.168]\n",
            "[2020-08-02 13:28:57,092] \n",
            "3/25 * Epoch 8 (train): _base/lr=0.0003 | _base/momentum=0.9000 | _timers/_fps=281.9206 | _timers/batch_time=0.1875 | _timers/data_time=0.0712 | _timers/model_time=0.1145 | loss=1.4365\n",
            "3/25 * Epoch 8 (valid): _base/lr=0.0003 | _base/momentum=0.9000 | _timers/_fps=258.5305 | _timers/batch_time=0.3995 | _timers/data_time=0.3032 | _timers/model_time=0.0962 | loss=1.3525\n",
            "4/25 * Epoch (train): 100% 164/164 [03:29<00:00,  1.14it/s, loss=1.448]\n",
            "4/25 * Epoch (valid): 100% 55/55 [00:33<00:00,  3.24it/s, loss=1.324]\n",
            "[2020-08-02 13:33:02,750] \n",
            "4/25 * Epoch 9 (train): _base/lr=0.0003 | _base/momentum=0.9000 | _timers/_fps=267.5844 | _timers/batch_time=0.2069 | _timers/data_time=0.0851 | _timers/model_time=0.1204 | loss=1.4061\n",
            "4/25 * Epoch 9 (valid): _base/lr=0.0003 | _base/momentum=0.9000 | _timers/_fps=298.1616 | _timers/batch_time=0.3900 | _timers/data_time=0.2997 | _timers/model_time=0.0895 | loss=1.3789\n",
            "5/25 * Epoch (train): 100% 164/164 [03:28<00:00,  1.15it/s, loss=0.936]\n",
            "5/25 * Epoch (valid): 100% 55/55 [00:33<00:00,  3.39it/s, loss=1.311]\n",
            "[2020-08-02 13:37:08,053] \n",
            "5/25 * Epoch 10 (train): _base/lr=0.0003 | _base/momentum=0.9000 | _timers/_fps=278.4594 | _timers/batch_time=0.1974 | _timers/data_time=0.0809 | _timers/model_time=0.1151 | loss=1.3889\n",
            "5/25 * Epoch 10 (valid): _base/lr=0.0003 | _base/momentum=0.9000 | _timers/_fps=320.8565 | _timers/batch_time=0.3970 | _timers/data_time=0.3091 | _timers/model_time=0.0878 | loss=1.3081\n",
            "6/25 * Epoch (train): 100% 164/164 [03:26<00:00,  1.14it/s, loss=1.743]\n",
            "6/25 * Epoch (valid): 100% 55/55 [00:33<00:00,  3.41it/s, loss=1.164]\n",
            "[2020-08-02 13:41:11,764] \n",
            "6/25 * Epoch 11 (train): _base/lr=0.0003 | _base/momentum=0.9000 | _timers/_fps=275.4275 | _timers/batch_time=0.1855 | _timers/data_time=0.0676 | _timers/model_time=0.1160 | loss=1.3918\n",
            "6/25 * Epoch 11 (valid): _base/lr=0.0003 | _base/momentum=0.9000 | _timers/_fps=321.0984 | _timers/batch_time=0.3925 | _timers/data_time=0.3057 | _timers/model_time=0.0867 | loss=1.3038\n",
            "7/25 * Epoch (train): 100% 164/164 [03:27<00:00,  1.14it/s, loss=1.303]\n",
            "7/25 * Epoch (valid): 100% 55/55 [00:33<00:00,  3.54it/s, loss=1.152]\n",
            "[2020-08-02 13:45:16,492] \n",
            "7/25 * Epoch 12 (train): _base/lr=0.0003 | _base/momentum=0.9000 | _timers/_fps=280.1312 | _timers/batch_time=0.1966 | _timers/data_time=0.0794 | _timers/model_time=0.1155 | loss=1.3797\n",
            "7/25 * Epoch 12 (valid): _base/lr=0.0003 | _base/momentum=0.9000 | _timers/_fps=301.4551 | _timers/batch_time=0.3990 | _timers/data_time=0.3089 | _timers/model_time=0.0899 | loss=1.3003\n",
            "8/25 * Epoch (train): 100% 164/164 [03:28<00:00,  1.14it/s, loss=1.511]\n",
            "8/25 * Epoch (valid): 100% 55/55 [00:33<00:00,  3.45it/s, loss=0.903]\n",
            "[2020-08-02 13:49:23,400] \n",
            "8/25 * Epoch 13 (train): _base/lr=0.0003 | _base/momentum=0.9000 | _timers/_fps=271.7767 | _timers/batch_time=0.2001 | _timers/data_time=0.0803 | _timers/model_time=0.1178 | loss=1.3684\n",
            "8/25 * Epoch 13 (valid): _base/lr=0.0003 | _base/momentum=0.9000 | _timers/_fps=281.4085 | _timers/batch_time=0.3972 | _timers/data_time=0.3020 | _timers/model_time=0.0951 | loss=1.2862\n",
            "9/25 * Epoch (train): 100% 164/164 [03:27<00:00,  1.14it/s, loss=1.804]\n",
            "9/25 * Epoch (valid): 100% 55/55 [00:33<00:00,  3.43it/s, loss=1.428]\n",
            "[2020-08-02 13:53:27,910] \n",
            "9/25 * Epoch 14 (train): _base/lr=0.0003 | _base/momentum=0.9000 | _timers/_fps=287.2254 | _timers/batch_time=0.1918 | _timers/data_time=0.0752 | _timers/model_time=0.1150 | loss=1.3542\n",
            "9/25 * Epoch 14 (valid): _base/lr=0.0003 | _base/momentum=0.9000 | _timers/_fps=249.8659 | _timers/batch_time=0.4030 | _timers/data_time=0.2999 | _timers/model_time=0.1030 | loss=1.3233\n",
            "10/25 * Epoch (train): 100% 164/164 [03:26<00:00,  1.14it/s, loss=1.694]\n",
            "10/25 * Epoch (valid): 100% 55/55 [00:34<00:00,  3.30it/s, loss=1.195]\n",
            "[2020-08-02 13:57:30,640] \n",
            "10/25 * Epoch 15 (train): _base/lr=0.0003 | _base/momentum=0.9000 | _timers/_fps=266.8996 | _timers/batch_time=0.1919 | _timers/data_time=0.0648 | _timers/model_time=0.1252 | loss=1.3644\n",
            "10/25 * Epoch 15 (valid): _base/lr=0.0003 | _base/momentum=0.9000 | _timers/_fps=285.0145 | _timers/batch_time=0.4115 | _timers/data_time=0.3179 | _timers/model_time=0.0934 | loss=1.2977\n",
            "11/25 * Epoch (train): 100% 164/164 [03:25<00:00,  1.14it/s, loss=1.498]\n",
            "11/25 * Epoch (valid): 100% 55/55 [00:33<00:00,  3.36it/s, loss=1.792]\n",
            "[2020-08-02 14:01:33,152] \n",
            "11/25 * Epoch 16 (train): _base/lr=0.0003 | _base/momentum=0.9000 | _timers/_fps=286.1149 | _timers/batch_time=0.1813 | _timers/data_time=0.0668 | _timers/model_time=0.1132 | loss=1.3381\n",
            "11/25 * Epoch 16 (valid): _base/lr=0.0003 | _base/momentum=0.9000 | _timers/_fps=273.8179 | _timers/batch_time=0.3956 | _timers/data_time=0.3049 | _timers/model_time=0.0906 | loss=1.2717\n",
            "12/25 * Epoch (train): 100% 164/164 [03:28<00:00,  1.14it/s, loss=1.005]\n",
            "12/25 * Epoch (valid): 100% 55/55 [00:33<00:00,  3.64it/s, loss=0.833]\n",
            "[2020-08-02 14:05:37,524] \n",
            "12/25 * Epoch 17 (train): _base/lr=0.0003 | _base/momentum=0.9000 | _timers/_fps=278.9963 | _timers/batch_time=0.1970 | _timers/data_time=0.0815 | _timers/model_time=0.1138 | loss=1.3263\n",
            "12/25 * Epoch 17 (valid): _base/lr=0.0003 | _base/momentum=0.9000 | _timers/_fps=291.0981 | _timers/batch_time=0.4033 | _timers/data_time=0.3060 | _timers/model_time=0.0971 | loss=1.2855\n",
            "13/25 * Epoch (train): 100% 164/164 [03:26<00:00,  1.14it/s, loss=1.525]\n",
            "13/25 * Epoch (valid): 100% 55/55 [00:33<00:00,  3.18it/s, loss=1.494]\n",
            "[2020-08-02 14:09:40,454] \n",
            "13/25 * Epoch 18 (train): _base/lr=0.0003 | _base/momentum=0.9000 | _timers/_fps=267.2645 | _timers/batch_time=0.1877 | _timers/data_time=0.0625 | _timers/model_time=0.1237 | loss=1.3171\n",
            "13/25 * Epoch 18 (valid): _base/lr=0.0003 | _base/momentum=0.9000 | _timers/_fps=293.6294 | _timers/batch_time=0.4040 | _timers/data_time=0.3098 | _timers/model_time=0.0942 | loss=1.3282\n",
            "14/25 * Epoch (train): 100% 164/164 [03:26<00:00,  1.14it/s, loss=1.141]\n",
            "14/25 * Epoch (valid): 100% 55/55 [00:33<00:00,  3.25it/s, loss=0.973]\n",
            "[2020-08-02 14:13:43,727] \n",
            "14/25 * Epoch 19 (train): _base/lr=0.0003 | _base/momentum=0.9000 | _timers/_fps=286.8995 | _timers/batch_time=0.1884 | _timers/data_time=0.0713 | _timers/model_time=0.1156 | loss=1.3302\n",
            "14/25 * Epoch 19 (valid): _base/lr=0.0003 | _base/momentum=0.9000 | _timers/_fps=264.3700 | _timers/batch_time=0.4061 | _timers/data_time=0.3056 | _timers/model_time=0.1000 | loss=1.3014\n",
            "15/25 * Epoch (train): 100% 164/164 [03:27<00:00,  1.14it/s, loss=1.988]\n",
            "15/25 * Epoch (valid): 100% 55/55 [00:33<00:00,  3.13it/s, loss=1.256]\n",
            "[2020-08-02 14:17:46,508] \n",
            "15/25 * Epoch 20 (train): _base/lr=0.0003 | _base/momentum=0.9000 | _timers/_fps=289.5239 | _timers/batch_time=0.1899 | _timers/data_time=0.0768 | _timers/model_time=0.1115 | loss=1.3174\n",
            "15/25 * Epoch 20 (valid): _base/lr=0.0003 | _base/momentum=0.9000 | _timers/_fps=255.7236 | _timers/batch_time=0.3978 | _timers/data_time=0.3029 | _timers/model_time=0.0949 | loss=1.2750\n",
            "16/25 * Epoch (train): 100% 164/164 [03:26<00:00,  1.14it/s, loss=1.457]\n",
            "16/25 * Epoch (valid): 100% 55/55 [00:33<00:00,  3.38it/s, loss=1.123]\n",
            "[2020-08-02 14:21:48,903] \n",
            "16/25 * Epoch 21 (train): _base/lr=0.0003 | _base/momentum=0.9000 | _timers/_fps=279.3022 | _timers/batch_time=0.1844 | _timers/data_time=0.0709 | _timers/model_time=0.1117 | loss=1.2980\n",
            "16/25 * Epoch 21 (valid): _base/lr=0.0003 | _base/momentum=0.9000 | _timers/_fps=269.4497 | _timers/batch_time=0.4057 | _timers/data_time=0.3070 | _timers/model_time=0.0985 | loss=1.3230\n",
            "17/25 * Epoch (train): 100% 164/164 [03:26<00:00,  1.14it/s, loss=1.767]\n",
            "17/25 * Epoch (valid): 100% 55/55 [00:33<00:00,  3.26it/s, loss=1.149]\n",
            "[2020-08-02 14:25:50,957] \n",
            "17/25 * Epoch 22 (train): _base/lr=0.0003 | _base/momentum=0.9000 | _timers/_fps=274.8781 | _timers/batch_time=0.1874 | _timers/data_time=0.0709 | _timers/model_time=0.1150 | loss=1.3008\n",
            "17/25 * Epoch 22 (valid): _base/lr=0.0003 | _base/momentum=0.9000 | _timers/_fps=285.1271 | _timers/batch_time=0.4091 | _timers/data_time=0.3076 | _timers/model_time=0.1012 | loss=1.2946\n",
            "18/25 * Epoch (train): 100% 164/164 [03:27<00:00,  1.14it/s, loss=2.088]\n",
            "18/25 * Epoch (valid): 100% 55/55 [00:33<00:00,  3.23it/s, loss=1.205]\n",
            "[2020-08-02 14:29:55,500] \n",
            "18/25 * Epoch 23 (train): _base/lr=0.0003 | _base/momentum=0.9000 | _timers/_fps=275.2669 | _timers/batch_time=0.1919 | _timers/data_time=0.0741 | _timers/model_time=0.1162 | loss=1.3102\n",
            "18/25 * Epoch 23 (valid): _base/lr=0.0003 | _base/momentum=0.9000 | _timers/_fps=296.6962 | _timers/batch_time=0.4004 | _timers/data_time=0.3069 | _timers/model_time=0.0935 | loss=1.2544\n",
            "19/25 * Epoch (train): 100% 164/164 [03:26<00:00,  1.14it/s, loss=1.771]\n",
            "19/25 * Epoch (valid): 100% 55/55 [00:33<00:00,  3.33it/s, loss=1.505]\n",
            "[2020-08-02 14:33:57,566] \n",
            "19/25 * Epoch 24 (train): _base/lr=0.0003 | _base/momentum=0.9000 | _timers/_fps=281.4956 | _timers/batch_time=0.1838 | _timers/data_time=0.0668 | _timers/model_time=0.1153 | loss=1.2928\n",
            "19/25 * Epoch 24 (valid): _base/lr=0.0003 | _base/momentum=0.9000 | _timers/_fps=281.8254 | _timers/batch_time=0.3904 | _timers/data_time=0.2972 | _timers/model_time=0.0929 | loss=1.3017\n",
            "20/25 * Epoch (train): 100% 164/164 [03:27<00:00,  1.14it/s, loss=1.734]\n",
            "20/25 * Epoch (valid): 100% 55/55 [00:33<00:00,  3.24it/s, loss=1.288]\n",
            "[2020-08-02 14:38:01,122] \n",
            "20/25 * Epoch 25 (train): _base/lr=0.0003 | _base/momentum=0.9000 | _timers/_fps=283.9652 | _timers/batch_time=0.1957 | _timers/data_time=0.0822 | _timers/model_time=0.1120 | loss=1.2726\n",
            "20/25 * Epoch 25 (valid): _base/lr=0.0003 | _base/momentum=0.9000 | _timers/_fps=295.4783 | _timers/batch_time=0.4026 | _timers/data_time=0.3063 | _timers/model_time=0.0962 | loss=1.3641\n",
            "21/25 * Epoch (train): 100% 164/164 [03:26<00:00,  1.14it/s, loss=1.826]\n",
            "21/25 * Epoch (valid): 100% 55/55 [00:33<00:00,  3.39it/s, loss=1.849]\n",
            "[2020-08-02 14:42:02,919] \n",
            "21/25 * Epoch 26 (train): _base/lr=0.0003 | _base/momentum=0.9000 | _timers/_fps=288.2691 | _timers/batch_time=0.1853 | _timers/data_time=0.0713 | _timers/model_time=0.1127 | loss=1.2705\n",
            "21/25 * Epoch 26 (valid): _base/lr=0.0003 | _base/momentum=0.9000 | _timers/_fps=278.9118 | _timers/batch_time=0.4029 | _timers/data_time=0.3021 | _timers/model_time=0.1003 | loss=1.3743\n",
            "22/25 * Epoch (train): 100% 164/164 [03:26<00:00,  1.14it/s, loss=1.068]\n",
            "22/25 * Epoch (valid): 100% 55/55 [00:33<00:00,  3.48it/s, loss=1.755]\n",
            "[2020-08-02 14:46:05,347] \n",
            "22/25 * Epoch 27 (train): _base/lr=0.0003 | _base/momentum=0.9000 | _timers/_fps=303.3762 | _timers/batch_time=0.1790 | _timers/data_time=0.0682 | _timers/model_time=0.1094 | loss=1.2702\n",
            "22/25 * Epoch 27 (valid): _base/lr=0.0003 | _base/momentum=0.9000 | _timers/_fps=307.6161 | _timers/batch_time=0.3968 | _timers/data_time=0.3035 | _timers/model_time=0.0933 | loss=1.3651\n",
            "23/25 * Epoch (train): 100% 164/164 [03:25<00:00,  1.14it/s, loss=1.091]\n",
            "23/25 * Epoch (valid): 100% 55/55 [00:33<00:00,  3.17it/s, loss=1.234]\n",
            "[2020-08-02 14:50:06,495] \n",
            "23/25 * Epoch 28 (train): _base/lr=0.0003 | _base/momentum=0.9000 | _timers/_fps=279.9953 | _timers/batch_time=0.1814 | _timers/data_time=0.0643 | _timers/model_time=0.1153 | loss=1.2529\n",
            "23/25 * Epoch 28 (valid): _base/lr=0.0003 | _base/momentum=0.9000 | _timers/_fps=272.5310 | _timers/batch_time=0.4063 | _timers/data_time=0.2997 | _timers/model_time=0.1062 | loss=1.3285\n",
            "24/25 * Epoch (train): 100% 164/164 [03:27<00:00,  1.14it/s, loss=0.770]\n",
            "24/25 * Epoch (valid): 100% 55/55 [00:32<00:00,  3.36it/s, loss=1.497]\n",
            "[2020-08-02 14:54:09,516] \n",
            "24/25 * Epoch 29 (train): _base/lr=0.0003 | _base/momentum=0.9000 | _timers/_fps=282.9649 | _timers/batch_time=0.1935 | _timers/data_time=0.0816 | _timers/model_time=0.1103 | loss=1.2661\n",
            "24/25 * Epoch 29 (valid): _base/lr=0.0003 | _base/momentum=0.9000 | _timers/_fps=264.0572 | _timers/batch_time=0.3949 | _timers/data_time=0.2966 | _timers/model_time=0.0982 | loss=1.3135\n",
            "25/25 * Epoch (train): 100% 164/164 [03:26<00:00,  1.14it/s, loss=1.041]\n",
            "25/25 * Epoch (valid): 100% 55/55 [00:32<00:00,  3.34it/s, loss=1.182]\n",
            "[2020-08-02 14:58:11,640] \n",
            "25/25 * Epoch 30 (train): _base/lr=0.0003 | _base/momentum=0.9000 | _timers/_fps=280.4897 | _timers/batch_time=0.1872 | _timers/data_time=0.0712 | _timers/model_time=0.1144 | loss=1.2625\n",
            "25/25 * Epoch 30 (valid): _base/lr=0.0003 | _base/momentum=0.9000 | _timers/_fps=265.0032 | _timers/batch_time=0.3901 | _timers/data_time=0.2922 | _timers/model_time=0.0977 | loss=1.3253\n",
            "Top best models:\n",
            "logs_final/initial_test_b3_fold3_vessel/checkpoints/train.18.pth\t1.2544\n"
          ],
          "name": "stdout"
        }
      ]
    },
    {
      "cell_type": "markdown",
      "metadata": {
        "id": "rvQkUgYartnz",
        "colab_type": "text"
      },
      "source": [
        "**TEST VESSEL**"
      ]
    },
    {
      "cell_type": "code",
      "metadata": {
        "id": "SCzXUCU7TpWA",
        "colab_type": "code",
        "colab": {
          "base_uri": "https://localhost:8080/",
          "height": 67
        },
        "outputId": "2d799dfa-f82c-441a-fbcf-5b842d216242"
      },
      "source": [
        "test_data = pd.read_csv('/content/gdrive/My Drive/Colab Notebooks/odir-ivashnyov/ODIR/data/XYZ_ODIR.csv')\n",
        "test_data_left = test_data.copy()\n",
        "test_data_right = test_data.copy()\n",
        "test_data_left.loc[:,'id'] = test_data_left.ID.apply(lambda x: str(x)+'_left.jpg')\n",
        "test_data_right.loc[:,'id'] = test_data_left.ID.apply(lambda x: str(x)+'_right.jpg')\n",
        "test_data = pd.concat([test_data_left,test_data_right])\n",
        "test_data.sort_values(['ID'],inplace=True)\n",
        "test_path = '/content/gdrive/My Drive/Colab Notebooks/retina/Retina-VesselNet/experiments/VesselNet/test/vessel-test-full/'\n",
        "test_dataset = EyeDataset(dataset_path=test_path, \n",
        "                         labels=test_data.loc[:,labels].values, \n",
        "                         ids=test_data.loc[:,'id'].values, \n",
        "                         albumentations_tr=aug_val(image_size))\n",
        "test_loader =  DataLoader(test_dataset,\n",
        "                         num_workers=8,\n",
        "                         pin_memory=False,\n",
        "                         batch_size=batch_size,\n",
        "                         shuffle=False)  \n",
        "loaders = collections.OrderedDict()\n",
        "loaders[\"valid\"] = test_loader    \n",
        "probabilities_list = []\n",
        "ttatype='d4'\n",
        "logdir = 'logs_final/initial_test_b3_fold3_vessel/'\n",
        "model = prepare_model(model_name, n_classes)\n",
        "model.cuda()\n",
        "model.load_state_dict(torch.load(os.path.join(logdir, '/content/gdrive/My Drive/Colab Notebooks/odir-ivashnyov/ODIR/logs_final/initial_test_b3_fold3_vessel/checkpoints/best.pth'))['model_state_dict'])\n",
        "model.eval()\n",
        "if ttatype == 'd4':\n",
        "    model = tta.TTAWrapper(model, tta.d4_image2label)\n",
        "elif ttatype == 'fliplr_image2label':\n",
        "    model = tta.TTAWrapper(model, tta.d4_image2label)\n",
        "runner = SupervisedRunner(model=model)\n",
        "runner.infer(model=model,loaders=loaders,callbacks=[InferCallback()])\n",
        "predictions = runner.callbacks[0].predictions['logits']\n",
        "probabilities = softmax(torch.from_numpy(predictions),dim=1).numpy()    \t\n",
        "for idx in range(probabilities.shape[0]):\t\n",
        "    if all(probabilities[idx,:]<0.5):\t\n",
        "        probabilities[idx,0] = 1.0\t\n",
        "probabilities_list.append(probabilities)\t\n",
        "probabilities_combined = np.stack(probabilities_list,axis=0).mean(axis=0) \t\n",
        "predicted_labels = pd.DataFrame(probabilities_combined, columns=labels)\t\n",
        "predicted_labels['id'] = test_data.loc[:,'id'].values\t\n",
        "predicted_labels.loc[:,'ID'] = predicted_labels.id.apply(lambda x: x.split('_')[0])\t\n",
        "predicted_labels_groupped = predicted_labels.groupby(['ID']).aggregate(dict(zip(labels,['max']*(len(labels)))))\t\n",
        "print(type(predicted_labels_groupped))\n",
        "predicted_labels_groupped['ID'] = predicted_labels_groupped.index.values.astype(int)\t\n",
        "predicted_labels_groupped.reset_index(drop=True, inplace=True)\t\n",
        "predicted_labels_groupped.sort_values('ID',inplace=True)\t\n",
        "predicted_labels_groupped = predicted_labels_groupped.loc[:,['ID']+labels] \t\n",
        "predicted_labels_groupped.to_csv('/content/gdrive/My Drive/Colab Notebooks/odir-ivashnyov/ODIR/submit_final/initial_test_b3_fold3_vessel.csv', index=False)"
      ],
      "execution_count": null,
      "outputs": [
        {
          "output_type": "stream",
          "text": [
            "Will load efficientnet-b3 with 8 classes\n",
            "Loaded pretrained weights for efficientnet-b3\n",
            "<class 'pandas.core.frame.DataFrame'>\n"
          ],
          "name": "stdout"
        }
      ]
    },
    {
      "cell_type": "code",
      "metadata": {
        "id": "leKCFBN3t8zp",
        "colab_type": "code",
        "colab": {}
      },
      "source": [
        ""
      ],
      "execution_count": null,
      "outputs": []
    }
  ]
}